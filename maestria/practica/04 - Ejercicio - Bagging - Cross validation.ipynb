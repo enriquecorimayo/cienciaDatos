{
  "cells": [
    {
      "cell_type": "markdown",
      "metadata": {},
      "source": [
        "<a href=\"https://colab.research.google.com/github/dieguito1331/cienciaDatos/blob/master/maestria/teoria/04 - Ejercicio - Bagging - Cross validation.ipynb\" target=\"_parent\"><img src=\"https://colab.research.google.com/assets/colab-badge.svg\" alt=\"Open In Colab\"/></a>"
      ]
    },
    {
      "cell_type": "markdown",
      "metadata": {
        "id": "sJV58DSTXcyU"
      },
      "source": [
        "## Ejercicio ##\n",
        "1) Levantar la base finalOrders.txt creada en el ejercicio anterior.  \n",
        "2) Dividir la base levantada en un 80% y 20%. El 20% lo dejaremos sin usar hasta que querramos validar todos los modelos creados.   \n",
        "3) Crear un modelo de Random Forest con los parámetros de defecto. Usar como base el 80% y a ese porcentaje, entrenar con el 70% y validar con el 30%.  \n",
        "4) Crear un modelo Random Forest con los parámetros por defecto pero ejecutarlo con un cross-validation de 5 folds. ¿Qué AUC se obtiene del modelo creado anteriormente?. ¿Existe diferencias contra el Random Forest creado en el ejercicio anterior?  \n",
        "5) En este caso, ¿qué es más recomendable, usar kfolds o StratifiedKfolds? ¿Por qué?  \n",
        "6) Optimizar los hiperparámetros Con Random Search usando 15 iteraciones del modelo creado anteriormente. Los hiperparámetros a optimizar serán:\n",
        "*   max_depth: 5,10,15,20\n",
        "*   learning_rate: 0.1, 0.01, 0.001\n",
        "*   n_estimators: 100, 200, 500, 1000\n",
        "\n",
        "Utilizar AUC como métrica de medición.\n",
        "\n",
        "7) ¿Cuáles fueron los hiperparámetros que mejor resultado dieron?  \n",
        "8) ¿Cuál fue el AUC obtenido?  \n",
        "9) Si utilizamos la optimización bayesiana, con 15 iteraciones. ¿Cuál es el conjunto de hiperparámetros con mejor resultado?  \n",
        "10) ¿Qué AUC obtuvieron?  \n",
        "11) Ejecutar un Grid Search con el espacio de hiperparámetros completos. ¿Cuántas ejecuciones se realizaron?  \n",
        "12) ¿Cuáles fueron los hiperparámetros con mejor resultado? Qué diferencia hubo con el ejercicio 9)?  \n",
        "13) Con el modelo obtenido en el ejercicio 11, obtener las probabilidades del 20% de la base que separamos en el ejercicio 2 y graficar la Curva ROC.\n",
        "\n",
        "\n"
      ]
    }
  ],
  "metadata": {
    "colab": {
      "collapsed_sections": [],
      "provenance": []
    },
    "kernelspec": {
      "display_name": "Python 3",
      "name": "python3"
    },
    "language_info": {
      "name": "python"
    }
  },
  "nbformat": 4,
  "nbformat_minor": 0
}
